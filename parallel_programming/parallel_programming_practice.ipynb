{
  "nbformat": 4,
  "nbformat_minor": 0,
  "metadata": {
    "colab": {
      "provenance": [],
      "authorship_tag": "ABX9TyPTwnxwXEL1vMj5YEAoxVQS",
      "include_colab_link": true
    },
    "kernelspec": {
      "name": "python3",
      "display_name": "Python 3"
    },
    "language_info": {
      "name": "python"
    }
  },
  "cells": [
    {
      "cell_type": "markdown",
      "metadata": {
        "id": "view-in-github",
        "colab_type": "text"
      },
      "source": [
        "<a href=\"https://colab.research.google.com/github/InNoobWeTrust/made-up-noob-algo/blob/main/parallel_programming/parallel_programming_practice.ipynb\" target=\"_parent\"><img src=\"https://colab.research.google.com/assets/colab-badge.svg\" alt=\"Open In Colab\"/></a>"
      ]
    },
    {
      "cell_type": "code",
      "execution_count": 1,
      "metadata": {
        "id": "VBxLjHMbJwQB"
      },
      "outputs": [],
      "source": [
        "'''\n",
        "# Problem statement:\n",
        "Given a sequence of numbers, find the missing numbers?\n",
        "\n",
        "Example data: 1 2 3 5\n",
        "\n",
        "Assumption:\n",
        "- sorted\n",
        "- incrementally\n",
        "- data length n is a fixed constant\n",
        "- fixed size, can be large (but manageable size)\n",
        "\n",
        "Edge case:\n",
        "- Array can start from any number\n",
        "- No number overflow (int64)\n",
        "'''\n",
        "\n",
        "import random\n",
        "import sys\n",
        "import numpy as np\n",
        "\n",
        "NUM_ITEMS = 10\n",
        "def prepare_test_data(n = NUM_ITEMS, step = 1):\n",
        "    '''\n",
        "    TDD approach to problem: define test datasets first\n",
        "    This kind of data is easy to augment\n",
        "    '''\n",
        "    if n == 1:\n",
        "        n = NUM_ITEMS\n",
        "    # randomly pick a start number\n",
        "    rand_start = random.randint(0, sys.maxsize - n * step)\n",
        "    arr = list(range(rand_start, rand_start + (n + 1) * step, step))\n",
        "    # randomly remove a number in the middle\n",
        "    rand_idx = random.choice(range(1, n))\n",
        "    missing = arr.pop(rand_idx)\n",
        "    return arr, missing"
      ]
    },
    {
      "cell_type": "code",
      "source": [
        "'''\n",
        "Check the generated test data\n",
        "'''\n",
        "test_arr, missing_num = prepare_test_data(5, 2)\n",
        "print('Test data:', test_arr)\n",
        "print('Missing number:', missing_num)"
      ],
      "metadata": {
        "colab": {
          "base_uri": "https://localhost:8080/"
        },
        "id": "3wnYYT2OkaGR",
        "outputId": "e6833fe8-fb27-4d82-8bc2-4f504ef210f0"
      },
      "execution_count": 2,
      "outputs": [
        {
          "output_type": "stream",
          "name": "stdout",
          "text": [
            "Test data: [1776779146027347821, 1776779146027347823, 1776779146027347825, 1776779146027347827, 1776779146027347831]\n",
            "Missing number: 1776779146027347829\n"
          ]
        }
      ]
    },
    {
      "cell_type": "code",
      "source": [
        "'''\n",
        "Intuition:\n",
        "- We know the step size\n",
        "- First and last number in an array is not the missing number\n",
        "- If 2 consecutive numbers in the array is not increasing with the step\n",
        "  size, then we have a missing number in between. Simple?\n",
        "'''\n",
        "\n",
        "def validate_increasing(a, b, step = 1):\n",
        "    '''\n",
        "    Simple logic to check if 2 consecutive numbers is increasing\n",
        "    with given step size\n",
        "    '''\n",
        "    return b - step == a\n",
        "\n",
        "def check_missing_number(arr, step = 1):\n",
        "    '''\n",
        "    Simple check logic on a stride of sliding window\n",
        "    '''\n",
        "    for i in range(0, len(arr) - 1):\n",
        "        if not validate_increasing(arr[i], arr[i+1], step):\n",
        "            return arr[i] + step\n",
        "    return None\n",
        "\n",
        "import os\n",
        "from multiprocessing.pool import ThreadPool\n",
        "\n",
        "def check_missing_parallel(arr, step = 1):\n",
        "    '''\n",
        "    - Split the data to multiple windows with overlap of 1 item.\n",
        "    - Then for each window, let a thread/process do the job of\n",
        "    finding the missing number. Then wait and collect results\n",
        "    - Find a truthy value among the returned results\n",
        "    '''\n",
        "    num_proc = os.cpu_count() or 2\n",
        "    window = len(arr) // num_proc\n",
        "    splits = [arr[i : i + window + 1] for i in range(num_proc)]\n",
        "    with ThreadPool(os.cpu_count()) as pool:\n",
        "        candidates = pool.map(lambda w: check_missing_number(w, step), splits)\n",
        "    return list(filter(None, candidates))[:1] or None"
      ],
      "metadata": {
        "id": "Y7oKwpBMMMJh"
      },
      "execution_count": 3,
      "outputs": []
    },
    {
      "cell_type": "code",
      "source": [
        "%time\n",
        "check_missing_number(test_arr)"
      ],
      "metadata": {
        "colab": {
          "base_uri": "https://localhost:8080/"
        },
        "id": "3cajBbp8kT8C",
        "outputId": "de54f533-51a6-4a58-f378-4e7ac528532e"
      },
      "execution_count": 4,
      "outputs": [
        {
          "output_type": "stream",
          "name": "stdout",
          "text": [
            "CPU times: user 5 µs, sys: 0 ns, total: 5 µs\n",
            "Wall time: 8.82 µs\n"
          ]
        },
        {
          "output_type": "execute_result",
          "data": {
            "text/plain": [
              "1776779146027347822"
            ]
          },
          "metadata": {},
          "execution_count": 4
        }
      ]
    },
    {
      "cell_type": "code",
      "source": [
        "%time\n",
        "check_missing_parallel(test_arr)"
      ],
      "metadata": {
        "colab": {
          "base_uri": "https://localhost:8080/"
        },
        "id": "zh0mVorbplDA",
        "outputId": "b9139a1c-70bb-46ce-fa88-e0ee889291b7"
      },
      "execution_count": 5,
      "outputs": [
        {
          "output_type": "stream",
          "name": "stdout",
          "text": [
            "CPU times: user 3 µs, sys: 0 ns, total: 3 µs\n",
            "Wall time: 8.11 µs\n"
          ]
        },
        {
          "output_type": "execute_result",
          "data": {
            "text/plain": [
              "[1776779146027347822]"
            ]
          },
          "metadata": {},
          "execution_count": 5
        }
      ]
    }
  ]
}